{
 "cells": [
  {
   "cell_type": "code",
   "execution_count": 1,
   "metadata": {},
   "outputs": [],
   "source": [
    "import pandas as pd\n",
    "import numpy as np\n",
    "import matplotlib as plt"
   ]
  },
  {
   "cell_type": "code",
   "execution_count": 2,
   "metadata": {},
   "outputs": [],
   "source": [
    "# Question: Between different countries,\n",
    "# what is the relationship between Case Fatality Rate and hospital beds per capita?"
   ]
  },
  {
   "cell_type": "code",
   "execution_count": 3,
   "metadata": {},
   "outputs": [
    {
     "name": "stdout",
     "output_type": "stream",
     "text": [
      "<class 'pandas.core.frame.DataFrame'>\n",
      "RangeIndex: 49878 entries, 0 to 49877\n",
      "Data columns (total 41 columns):\n",
      " #   Column                           Non-Null Count  Dtype  \n",
      "---  ------                           --------------  -----  \n",
      " 0   iso_code                         49590 non-null  object \n",
      " 1   continent                        49302 non-null  object \n",
      " 2   location                         49878 non-null  object \n",
      " 3   date                             49878 non-null  object \n",
      " 4   total_cases                      49242 non-null  float64\n",
      " 5   new_cases                        49018 non-null  float64\n",
      " 6   new_cases_smoothed               48236 non-null  float64\n",
      " 7   total_deaths                     49242 non-null  float64\n",
      " 8   new_deaths                       49018 non-null  float64\n",
      " 9   new_deaths_smoothed              48236 non-null  float64\n",
      " 10  total_cases_per_million          48954 non-null  float64\n",
      " 11  new_cases_per_million            48954 non-null  float64\n",
      " 12  new_cases_smoothed_per_million   48171 non-null  float64\n",
      " 13  total_deaths_per_million         48954 non-null  float64\n",
      " 14  new_deaths_per_million           48954 non-null  float64\n",
      " 15  new_deaths_smoothed_per_million  48171 non-null  float64\n",
      " 16  new_tests                        18041 non-null  float64\n",
      " 17  total_tests                      18466 non-null  float64\n",
      " 18  total_tests_per_thousand         18466 non-null  float64\n",
      " 19  new_tests_per_thousand           18041 non-null  float64\n",
      " 20  new_tests_smoothed               20431 non-null  float64\n",
      " 21  new_tests_smoothed_per_thousand  20431 non-null  float64\n",
      " 22  tests_per_case                   18809 non-null  float64\n",
      " 23  positive_rate                    19271 non-null  float64\n",
      " 24  tests_units                      21288 non-null  object \n",
      " 25  stringency_index                 41425 non-null  float64\n",
      " 26  population                       49590 non-null  float64\n",
      " 27  population_density               47307 non-null  float64\n",
      " 28  median_age                       44445 non-null  float64\n",
      " 29  aged_65_older                    43781 non-null  float64\n",
      " 30  aged_70_older                    44214 non-null  float64\n",
      " 31  gdp_per_capita                   43863 non-null  float64\n",
      " 32  extreme_poverty                  29251 non-null  float64\n",
      " 33  cardiovasc_death_rate            44432 non-null  float64\n",
      " 34  diabetes_prevalence              46027 non-null  float64\n",
      " 35  female_smokers                   34743 non-null  float64\n",
      " 36  male_smokers                     34300 non-null  float64\n",
      " 37  handwashing_facilities           20871 non-null  float64\n",
      " 38  hospital_beds_per_thousand       40097 non-null  float64\n",
      " 39  life_expectancy                  48960 non-null  float64\n",
      " 40  human_development_index          42883 non-null  float64\n",
      "dtypes: float64(36), object(5)\n",
      "memory usage: 15.6+ MB\n"
     ]
    }
   ],
   "source": [
    "# This url updates more frequently than the one Dr. Mick gave, according to the authors.\n",
    "raw_covid = pd.read_csv('https://covid.ourworldindata.org/data/owid-covid-data.csv')\n",
    "\n",
    "raw_covid.info()"
   ]
  },
  {
   "cell_type": "code",
   "execution_count": 4,
   "metadata": {},
   "outputs": [],
   "source": [
    "# We need to clean up the data, removing non-countries & outliers.\n",
    "country_covid = raw_covid[(raw_covid.location != 'International')\n",
    "                         &(raw_covid.location != 'World')\n",
    "                         &(raw_covid.hospital_beds_per_thousand.notnull()) # excluding nulls\n",
    "                         &(raw_covid.location != 'Yemen') # extreme outlier\n",
    "                         ]\n"
   ]
  },
  {
   "cell_type": "code",
   "execution_count": 5,
   "metadata": {},
   "outputs": [
    {
     "data": {
      "text/plain": [
       "array(['Afghanistan', 'Albania', 'United Arab Emirates', 'Argentina',\n",
       "       'Armenia', 'Antigua and Barbuda', 'Australia', 'Austria',\n",
       "       'Azerbaijan', 'Burundi', 'Belgium', 'Benin', 'Burkina Faso',\n",
       "       'Bangladesh', 'Bulgaria', 'Bahrain', 'Bahamas',\n",
       "       'Bosnia and Herzegovina', 'Belarus', 'Belize', 'Bolivia', 'Brazil',\n",
       "       'Barbados', 'Brunei', 'Bhutan', 'Botswana',\n",
       "       'Central African Republic', 'Canada', 'Switzerland', 'Chile',\n",
       "       'China', 'Cameroon', 'Colombia', 'Comoros', 'Cape Verde',\n",
       "       'Costa Rica', 'Cuba', 'Cyprus', 'Czech Republic', 'Germany',\n",
       "       'Djibouti', 'Dominica', 'Denmark', 'Dominican Republic', 'Algeria',\n",
       "       'Ecuador', 'Egypt', 'Eritrea', 'Spain', 'Estonia', 'Ethiopia',\n",
       "       'Finland', 'Fiji', 'France', 'Gabon', 'United Kingdom', 'Georgia',\n",
       "       'Ghana', 'Guinea', 'Gambia', 'Equatorial Guinea', 'Greece',\n",
       "       'Grenada', 'Guatemala', 'Guyana', 'Honduras', 'Croatia', 'Haiti',\n",
       "       'Hungary', 'Indonesia', 'India', 'Ireland', 'Iran', 'Iraq',\n",
       "       'Iceland', 'Israel', 'Italy', 'Jamaica', 'Jordan', 'Japan',\n",
       "       'Kazakhstan', 'Kenya', 'Kyrgyzstan', 'Cambodia',\n",
       "       'Saint Kitts and Nevis', 'South Korea', 'Kuwait', 'Laos',\n",
       "       'Lebanon', 'Liberia', 'Libya', 'Saint Lucia', 'Liechtenstein',\n",
       "       'Sri Lanka', 'Lithuania', 'Luxembourg', 'Latvia', 'Morocco',\n",
       "       'Monaco', 'Moldova', 'Madagascar', 'Mexico', 'Macedonia', 'Mali',\n",
       "       'Malta', 'Myanmar', 'Montenegro', 'Mongolia', 'Mozambique',\n",
       "       'Mauritius', 'Malawi', 'Malaysia', 'Niger', 'Nicaragua',\n",
       "       'Netherlands', 'Norway', 'Nepal', 'New Zealand', 'Oman',\n",
       "       'Pakistan', 'Panama', 'Peru', 'Philippines', 'Poland', 'Portugal',\n",
       "       'Paraguay', 'Qatar', 'Romania', 'Russia', 'Saudi Arabia', 'Sudan',\n",
       "       'Singapore', 'El Salvador', 'San Marino', 'Somalia', 'Serbia',\n",
       "       'Sao Tome and Principe', 'Suriname', 'Slovakia', 'Slovenia',\n",
       "       'Sweden', 'Swaziland', 'Seychelles', 'Syria', 'Togo', 'Thailand',\n",
       "       'Tajikistan', 'Timor', 'Trinidad and Tobago', 'Tunisia', 'Turkey',\n",
       "       'Tanzania', 'Uganda', 'Ukraine', 'Uruguay', 'United States',\n",
       "       'Uzbekistan', 'Saint Vincent and the Grenadines', 'Venezuela',\n",
       "       'Vietnam', 'South Africa', 'Zambia', 'Zimbabwe'], dtype=object)"
      ]
     },
     "execution_count": 5,
     "metadata": {},
     "output_type": "execute_result"
    }
   ],
   "source": [
    "country_covid.location.unique()"
   ]
  },
  {
   "cell_type": "code",
   "execution_count": 6,
   "metadata": {},
   "outputs": [
    {
     "data": {
      "text/plain": [
       "location\n",
       "Afghanistan            3.706672\n",
       "Albania                2.723186\n",
       "Algeria                3.398779\n",
       "Antigua and Barbuda    2.702703\n",
       "Argentina              2.676280\n",
       "                         ...   \n",
       "Uzbekistan             0.828810\n",
       "Venezuela              0.840537\n",
       "Vietnam                3.153153\n",
       "Zambia                 2.218792\n",
       "Zimbabwe               2.867473\n",
       "Length: 163, dtype: float64"
      ]
     },
     "execution_count": 6,
     "metadata": {},
     "output_type": "execute_result"
    }
   ],
   "source": [
    "# Overall case fatality rate = total deaths / total cases x 100\n",
    "cfr_by_country = country_covid.groupby('location').total_deaths.max() / country_covid.groupby('location').total_cases.max() * 100\n",
    "\n",
    "cfr_by_country"
   ]
  },
  {
   "cell_type": "code",
   "execution_count": 7,
   "metadata": {},
   "outputs": [
    {
     "data": {
      "text/plain": [
       "location\n",
       "Afghanistan            0.50\n",
       "Albania                2.89\n",
       "Algeria                1.90\n",
       "Antigua and Barbuda    3.80\n",
       "Argentina              5.00\n",
       "                       ... \n",
       "Uzbekistan             4.00\n",
       "Venezuela              0.80\n",
       "Vietnam                2.60\n",
       "Zambia                 2.00\n",
       "Zimbabwe               1.70\n",
       "Name: hospital_beds_per_thousand, Length: 163, dtype: float64"
      ]
     },
     "execution_count": 7,
     "metadata": {},
     "output_type": "execute_result"
    }
   ],
   "source": [
    "# Predictor here is hospitals per thousand. For each country, that field is constant.\n",
    "# If it were not, I might still just use the mean, but that seems a little sketchy.\n",
    "predictor = country_covid.groupby('location').hospital_beds_per_thousand.mean()\n",
    "\n",
    "predictor"
   ]
  },
  {
   "cell_type": "code",
   "execution_count": 8,
   "metadata": {},
   "outputs": [
    {
     "data": {
      "text/plain": [
       "0.010396215930641458"
      ]
     },
     "execution_count": 8,
     "metadata": {},
     "output_type": "execute_result"
    }
   ],
   "source": [
    "# Calculates r^2. We see that this is barely 1%.\n",
    "predictor.corr(cfr_by_country, method='pearson') ** 2"
   ]
  },
  {
   "cell_type": "code",
   "execution_count": 9,
   "metadata": {},
   "outputs": [],
   "source": [
    "# How come there is no correlation whatsoever? "
   ]
  }
 ],
 "metadata": {
  "kernelspec": {
   "display_name": "Python 3",
   "language": "python",
   "name": "python3"
  },
  "language_info": {
   "codemirror_mode": {
    "name": "ipython",
    "version": 3
   },
   "file_extension": ".py",
   "mimetype": "text/x-python",
   "name": "python",
   "nbconvert_exporter": "python",
   "pygments_lexer": "ipython3",
   "version": "3.8.3"
  }
 },
 "nbformat": 4,
 "nbformat_minor": 4
}
