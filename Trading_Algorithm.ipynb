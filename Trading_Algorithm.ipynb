{
 "cells": [
  {
   "cell_type": "markdown",
   "metadata": {},
   "source": [
    "# Logging In"
   ]
  },
  {
   "cell_type": "code",
   "execution_count": 1,
   "metadata": {},
   "outputs": [],
   "source": [
    "from Robinhood import Robinhood\n",
    "from dotenv import load_dotenv\n",
    "import os"
   ]
  },
  {
   "cell_type": "code",
   "execution_count": 2,
   "metadata": {},
   "outputs": [],
   "source": [
    "# For security purposes, sensitive info should never be hard-coded.\n",
    "# This block extracts the login info from a local file.\n",
    "load_dotenv()\n",
    "user_name = os.environ.get('EMAIL')\n",
    "password  = os.environ.get('PASSWORD')\n",
    "auth_key  = os.environ.get('KEY')"
   ]
  },
  {
   "cell_type": "code",
   "execution_count": 3,
   "metadata": {},
   "outputs": [
    {
     "data": {
      "text/plain": [
       "True"
      ]
     },
     "execution_count": 3,
     "metadata": {},
     "output_type": "execute_result"
    }
   ],
   "source": [
    "# Logs in\n",
    "trader = Robinhood()\n",
    "trader.login(username=user_name, password=password, qr_code = auth_key)"
   ]
  },
  {
   "cell_type": "code",
   "execution_count": 4,
   "metadata": {},
   "outputs": [
    {
     "data": {
      "text/plain": [
       "'50.890000'"
      ]
     },
     "execution_count": 4,
     "metadata": {},
     "output_type": "execute_result"
    }
   ],
   "source": [
    "# Now I can look up stock prices....\n",
    "trader.quote_data(\"GME\")['ask_price']"
   ]
  },
  {
   "cell_type": "code",
   "execution_count": 5,
   "metadata": {},
   "outputs": [
    {
     "data": {
      "text/plain": [
       "{'url': 'https://api.robinhood.com/portfolios/736303595/',\n",
       " 'account': 'https://api.robinhood.com/accounts/736303595/',\n",
       " 'start_date': None,\n",
       " 'market_value': '0.0000',\n",
       " 'equity': '0.0000',\n",
       " 'extended_hours_market_value': None,\n",
       " 'extended_hours_equity': None,\n",
       " 'extended_hours_portfolio_equity': None,\n",
       " 'last_core_market_value': '0.0000',\n",
       " 'last_core_equity': '0.0000',\n",
       " 'last_core_portfolio_equity': '0.0000',\n",
       " 'excess_margin': '0.0000',\n",
       " 'excess_maintenance': '0.0000',\n",
       " 'excess_margin_with_uncleared_deposits': '0.0000',\n",
       " 'excess_maintenance_with_uncleared_deposits': '0.0000',\n",
       " 'equity_previous_close': '0.0000',\n",
       " 'portfolio_equity_previous_close': '0.0000',\n",
       " 'adjusted_equity_previous_close': '0.0000',\n",
       " 'adjusted_portfolio_equity_previous_close': '0.0000',\n",
       " 'withdrawable_amount': '0.0000',\n",
       " 'unwithdrawable_deposits': '0.0000',\n",
       " 'unwithdrawable_grants': '0.0000'}"
      ]
     },
     "execution_count": 5,
     "metadata": {},
     "output_type": "execute_result"
    }
   ],
   "source": [
    "# ... and see my own portfolio.\n",
    "\n",
    "trader.portfolios()"
   ]
  },
  {
   "cell_type": "markdown",
   "metadata": {},
   "source": [
    "\n",
    "# Automated Trading Algorithm: Starting Simple\n"
   ]
  },
  {
   "cell_type": "markdown",
   "metadata": {},
   "source": [
    "Todo: Pull up a master list of the Robinhood market, and filter them with our indicators. Consider the top 5 or 10.\n",
    "\n",
    "Todo: Set the trading rules--when is it time to pull out?\n",
    "\n",
    "Todo: buy into the top stocks at opening, and constantly repeat this algorithm until closing.\n",
    "\n",
    "Todo: evaluate the day's performance."
   ]
  },
  {
   "cell_type": "markdown",
   "metadata": {},
   "source": [
    "# Defensive Coding\n"
   ]
  },
  {
   "cell_type": "markdown",
   "metadata": {},
   "source": [
    "Todo: Make sure we minimize accidental losses. Set up a droplet to run this script on. Make sure we can't lose all the money to some silly bug in the code."
   ]
  },
  {
   "cell_type": "markdown",
   "metadata": {},
   "source": [
    "# Trading Strategy"
   ]
  },
  {
   "cell_type": "markdown",
   "metadata": {},
   "source": [
    "What are some trend indicators we should consider? "
   ]
  }
 ],
 "metadata": {
  "kernelspec": {
   "display_name": "Python 3",
   "language": "python",
   "name": "python3"
  },
  "language_info": {
   "codemirror_mode": {
    "name": "ipython",
    "version": 3
   },
   "file_extension": ".py",
   "mimetype": "text/x-python",
   "name": "python",
   "nbconvert_exporter": "python",
   "pygments_lexer": "ipython3",
   "version": "3.8.3"
  }
 },
 "nbformat": 4,
 "nbformat_minor": 4
}
