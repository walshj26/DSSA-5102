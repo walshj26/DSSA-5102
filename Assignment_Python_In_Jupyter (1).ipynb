{
 "cells": [
  {
   "cell_type": "markdown",
   "metadata": {},
   "source": [
    "# Python in Jupyter Assignment\n",
    "\n",
    "> Here you will find a Jupyter Notebook populated with a series of practice tasks for you to implement.\n",
    "\n",
    "> Be sure to follow Juypter Notebook best practices (submit only working code that runs with a fresh kernel from top to bottom).\n",
    "\n",
    "> Each task has some test cases where the function is called and evaluated with an expected return value.  Your task is to write the code necessary to have all these test cases return True. \n",
    "\n",
    "**Important: Do not use the `import` statement anywhere in this Notebook**\n",
    "> All of these problems were designed with the intention to have you solve without the use of any built-in or additional Python module.\n",
    "\n",
    "> Our goal here is to ensure we are comfortable with some of the basic Python features before using additional modules\n",
    "\n",
    "**Submission: Use Stockton's Blackboard to submit a link to your Jupyter Notebook with a tool like `nbviewer` or `Binder`**\n",
    "* https://bbweb.stockton.edu\n",
    "* https://nbviewer.jupyter.org/\n",
    "* https://www.dataschool.io/cloud-services-for-jupyter-notebook/\n"
   ]
  },
  {
   "cell_type": "markdown",
   "metadata": {},
   "source": [
    "---"
   ]
  },
  {
   "cell_type": "markdown",
   "metadata": {},
   "source": [
    "#### Practice 1:\n",
    "* Write a function which accepts a positive number as an input and returns the square root of the number\n",
    "* If the input number provided is negative, return the value `None`"
   ]
  },
  {
   "cell_type": "code",
   "execution_count": 1,
   "metadata": {},
   "outputs": [],
   "source": [
    "def practice_1(x):\n",
    "    if x<0:\n",
    "        return None\n",
    "    return x**0.5"
   ]
  },
  {
   "cell_type": "code",
   "execution_count": 2,
   "metadata": {},
   "outputs": [
    {
     "data": {
      "text/plain": [
       "80000000.6457"
      ]
     },
     "execution_count": 2,
     "metadata": {},
     "output_type": "execute_result"
    }
   ],
   "source": [
    "# Practice code here\n",
    "practice_1(80000000.6457**2)"
   ]
  },
  {
   "cell_type": "markdown",
   "metadata": {},
   "source": [
    "#### Test Cases:\n",
    "* Run the following cell block to test your function above; you may even choose to add additional test cases of your own"
   ]
  },
  {
   "cell_type": "code",
   "execution_count": 3,
   "metadata": {},
   "outputs": [
    {
     "name": "stdout",
     "output_type": "stream",
     "text": [
      "Test Result #1:  True\n",
      "Test Result #2:  True\n",
      "Test Result #3:  True\n",
      "Test Result #4:  True\n",
      "Test Result #5:  True\n"
     ]
    }
   ],
   "source": [
    "print(\"Test Result #1: \", practice_1(4)      == 2)\n",
    "print(\"Test Result #2: \", practice_1(16)     == 4)\n",
    "print(\"Test Result #3: \", practice_1(344569) == 587)\n",
    "print(\"Test Result #4: \", practice_1(0)      == 0)\n",
    "print(\"Test Result #5: \", practice_1(-10)    == None)"
   ]
  },
  {
   "cell_type": "markdown",
   "metadata": {},
   "source": [
    "---\n",
    "\n",
    "#### Practice 2:\n",
    "* Write a function that takes any string as an input, and returns the string with only the first letter capitalized."
   ]
  },
  {
   "cell_type": "code",
   "execution_count": 10,
   "metadata": {},
   "outputs": [],
   "source": [
    "def practice_2(x):\n",
    "    return x.casefold().capitalize()"
   ]
  },
  {
   "cell_type": "code",
   "execution_count": 11,
   "metadata": {},
   "outputs": [],
   "source": [
    "# Practice code here"
   ]
  },
  {
   "cell_type": "markdown",
   "metadata": {},
   "source": [
    "#### Test Cases:"
   ]
  },
  {
   "cell_type": "code",
   "execution_count": 12,
   "metadata": {},
   "outputs": [
    {
     "name": "stdout",
     "output_type": "stream",
     "text": [
      "Test Result #1:  True\n",
      "Test Result #2:  True\n",
      "Test Result #3:  True\n",
      "Test Result #4:  True\n"
     ]
    }
   ],
   "source": [
    "print(\"Test Result #1: \", practice_2(\"hello there\")                      == \"Hello there\")\n",
    "print(\"Test Result #2: \", practice_2(\"ISN'T PYthon FUN\")                 == \"Isn't python fun\")\n",
    "print(\"Test Result #3: \", practice_2(\"it's even better in Jupyter\")      == \"It's even better in jupyter\")\n",
    "print(\"Test Result #4: \", practice_2(\"lEt'S sTaRt PrOcEsSiNg SoMe DaTa\") == \"Let's start processing some data\")"
   ]
  },
  {
   "cell_type": "markdown",
   "metadata": {},
   "source": [
    "---\n",
    "\n",
    "#### Practice 3:\n",
    "* Write a function that takes any list as an input and returns a list containing every other value in the original"
   ]
  },
  {
   "cell_type": "code",
   "execution_count": 34,
   "metadata": {},
   "outputs": [],
   "source": [
    "def practice_3(x):\n",
    "    new = []\n",
    "    for i in range(len(x)):\n",
    "        if (i%2==0):\n",
    "            new.append(x[i])\n",
    "    return new"
   ]
  },
  {
   "cell_type": "code",
   "execution_count": 35,
   "metadata": {},
   "outputs": [],
   "source": [
    "# Practice code here"
   ]
  },
  {
   "cell_type": "markdown",
   "metadata": {},
   "source": [
    "#### Test Cases:"
   ]
  },
  {
   "cell_type": "code",
   "execution_count": 36,
   "metadata": {},
   "outputs": [
    {
     "name": "stdout",
     "output_type": "stream",
     "text": [
      "Test Result #1:  True\n",
      "Test Result #2:  True\n",
      "Test Result #3:  True\n",
      "Test Result #4:  True\n"
     ]
    }
   ],
   "source": [
    "print(\"Test Result #1: \", practice_3([0,1,2,3]) == [0,2])\n",
    "print(\"Test Result #2: \", practice_3([0,2,3])   == [0,3])\n",
    "print(\"Test Result #3: \", practice_3([0,3])     == [0]  )\n",
    "print(\"Test Result #4: \", practice_3([])        == []   )"
   ]
  },
  {
   "cell_type": "markdown",
   "metadata": {},
   "source": [
    "---\n",
    "\n",
    "#### Practice 4:"
   ]
  },
  {
   "cell_type": "markdown",
   "metadata": {},
   "source": [
    "* Write a function that takes a test dictionary as an input and returns the average score for all the factories"
   ]
  },
  {
   "cell_type": "code",
   "execution_count": 37,
   "metadata": {},
   "outputs": [],
   "source": [
    "def practice_4(x):\n",
    "    total = 0.0\n",
    "    factories = 0\n",
    "    for factory in x:\n",
    "        total += x[factory]\n",
    "        factories += 1\n",
    "    return total/factories"
   ]
  },
  {
   "cell_type": "code",
   "execution_count": 38,
   "metadata": {},
   "outputs": [],
   "source": [
    "# Practice code here\n"
   ]
  },
  {
   "cell_type": "markdown",
   "metadata": {},
   "source": [
    "#### Test Cases:"
   ]
  },
  {
   "cell_type": "code",
   "execution_count": 39,
   "metadata": {},
   "outputs": [
    {
     "name": "stdout",
     "output_type": "stream",
     "text": [
      "Test Result #1:  True\n",
      "Test Result #1:  True\n",
      "Test Result #1:  True\n",
      "Test Result #1:  True\n"
     ]
    }
   ],
   "source": [
    "print(\"Test Result #1: \", practice_4( {\"factory_a\": 1,   \"factory_b\": 3, \"factory_c\": 8 } ) == 4   )\n",
    "print(\"Test Result #1: \", practice_4( {\"factory_y\": 1,   \"factory_x\": 3                 } ) == 2   )\n",
    "print(\"Test Result #1: \", practice_4( {\"factory_z\": 100, \"factory_0\": 0                 } ) == 50  )\n",
    "print(\"Test Result #1: \", practice_4( {\"factory_g\": 1000                                } ) == 1000)"
   ]
  },
  {
   "cell_type": "markdown",
   "metadata": {},
   "source": [
    "----\n",
    "\n",
    "#### Practice 5:\n",
    "* Write a function which returns the maximum factory's output given a list of dictionaries "
   ]
  },
  {
   "cell_type": "code",
   "execution_count": 44,
   "metadata": {},
   "outputs": [],
   "source": [
    "def practice_5(x):\n",
    "    max_output = float('-inf')\n",
    "    for factory in x:\n",
    "        if factory.get(\"output\") > max_output:\n",
    "            max_output = factory.get(\"output\")\n",
    "    return max_output"
   ]
  },
  {
   "cell_type": "code",
   "execution_count": 45,
   "metadata": {},
   "outputs": [],
   "source": [
    "# Practice code here"
   ]
  },
  {
   "cell_type": "markdown",
   "metadata": {},
   "source": [
    "#### Test Cases:"
   ]
  },
  {
   "cell_type": "code",
   "execution_count": 46,
   "metadata": {},
   "outputs": [
    {
     "name": "stdout",
     "output_type": "stream",
     "text": [
      "Test Result #1:  True\n",
      "Test Result #2:  True\n",
      "Test Result #3:  True\n"
     ]
    }
   ],
   "source": [
    "print(\n",
    "    \"Test Result #1: \", \n",
    "    practice_5([ \n",
    "        {\"name\": \"factory_a\", \"output\": 100},\n",
    "        {\"name\": \"factory_a\", \"output\": 300},\n",
    "        {\"name\": \"factory_a\", \"output\": 200}\n",
    "    ]) == 300\n",
    ")\n",
    "print(\n",
    "    \"Test Result #2: \", \n",
    "    practice_5([ \n",
    "        {\"name\": \"factory_a\", \"output\": 500},\n",
    "        {\"name\": \"factory_a\", \"output\": 100},\n",
    "    ]) == 500\n",
    ")\n",
    "print(\n",
    "    \"Test Result #3: \", \n",
    "    practice_5([ \n",
    "        {\"name\": \"factory_a\", \"output\": 100},\n",
    "        {\"name\": \"factory_a\", \"output\": 500},\n",
    "        {\"name\": \"factory_a\", \"output\": 200},\n",
    "        {\"name\": \"factory_a\", \"output\": 200}\n",
    "    ]) == 500\n",
    ")"
   ]
  },
  {
   "cell_type": "code",
   "execution_count": null,
   "metadata": {},
   "outputs": [],
   "source": []
  }
 ],
 "metadata": {
  "kernelspec": {
   "display_name": "Python 3",
   "language": "python",
   "name": "python3"
  },
  "language_info": {
   "codemirror_mode": {
    "name": "ipython",
    "version": 3
   },
   "file_extension": ".py",
   "mimetype": "text/x-python",
   "name": "python",
   "nbconvert_exporter": "python",
   "pygments_lexer": "ipython3",
   "version": "3.8.3"
  }
 },
 "nbformat": 4,
 "nbformat_minor": 4
}
