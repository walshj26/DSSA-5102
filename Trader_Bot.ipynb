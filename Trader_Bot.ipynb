{
 "cells": [
  {
   "cell_type": "markdown",
   "metadata": {},
   "source": [
    "# Trader Bot"
   ]
  },
  {
   "cell_type": "markdown",
   "metadata": {},
   "source": [
    "## Objectives:\n",
    "- Build a \"trader\" class\n",
    "- Defining lookback window\n",
    "- Defining breakout points\n",
    "- Defining the trailing stop-loss\n",
    "- Testing against sample data\n",
    "- Refining the Algorithm: Momentum and Volume Analysis\n",
    "- Connect to proper apis"
   ]
  },
  {
   "cell_type": "markdown",
   "metadata": {},
   "source": [
    "## Trader Class (in progress)\n",
    "\n",
    "This object monitors a given asset in real time, and decide when to open a position on it. It also automatically controls that position.\n",
    "\n",
    "### Methods Needed:\n",
    "* stop/start trading -- Turn it on or off\n",
    "* analysis methods\n",
    "* open/view/close position methods\n",
    "* real time trading method"
   ]
  },
  {
   "cell_type": "code",
   "execution_count": 1,
   "metadata": {},
   "outputs": [],
   "source": [
    "class Trader:\n",
    "    # Specify the asset to monitor and how much cash to give the bot.\n",
    "    def __init__(self, asset_symbol, cash):\n",
    "        self.asset = asset_symbol \n",
    "        self.capital = cash\n",
    "        self.active = False\n",
    "        \n",
    "    # prints all basic info for user\n",
    "    def info(self):\n",
    "        print(\"Asset:\", self.asset,\n",
    "             \"\\nCapital Allocated: $\" + str(self.capital),\n",
    "             \"\\nStatus:\", \"Active\" if self.active else \"Not Active\")\n",
    "        \n",
    "    # Turns the bot on and off.\n",
    "    def start_bot(self):\n",
    "        self.active = True\n",
    "    def stop_bot(self):\n",
    "        self.active = False\n",
    "        \n",
    "    # opens/closes a new position\n",
    "    def open_position(self):\n",
    "        pass\n",
    "    def close_position(self):\n",
    "        pass\n",
    "    def view_position(self):\n",
    "        pass\n",
    "    \n",
    "    # analysis methods\n",
    "    def analyze(self):\n",
    "        pass\n",
    "    # write aux analysis methods here\n",
    "    \n",
    "    # real time trading method\n",
    "    def trade(self):\n",
    "        pass"
   ]
  },
  {
   "cell_type": "code",
   "execution_count": 2,
   "metadata": {},
   "outputs": [],
   "source": [
    "test_trader = Trader(\"GME\", 25000)"
   ]
  },
  {
   "cell_type": "code",
   "execution_count": 3,
   "metadata": {},
   "outputs": [
    {
     "name": "stdout",
     "output_type": "stream",
     "text": [
      "Asset: GME \n",
      "Capital Allocated: $25000 \n",
      "Status: Not Active\n"
     ]
    }
   ],
   "source": [
    "test_trader.info()"
   ]
  },
  {
   "cell_type": "markdown",
   "metadata": {},
   "source": [
    "## Dynamic lookback window\n",
    "<p>We first set an arbitrary lookback window. The unit here could be days, hours, or even seconds. <\\p>\n",
    "<p>At each market open, the algorithm adjusts this according to relative changes in volatility. Higher volatility should cause us to widen the window. The lookback window must stay within some reasonable range. For now, I define volatility as the 14-day average true range.<\\p>"
   ]
  },
  {
   "cell_type": "code",
   "execution_count": 4,
   "metadata": {},
   "outputs": [],
   "source": [
    "from finta import TA\n",
    "import yfinance as yf # for easy test data"
   ]
  },
  {
   "cell_type": "code",
   "execution_count": 107,
   "metadata": {},
   "outputs": [
    {
     "data": {
      "text/html": [
       "<div>\n",
       "<style scoped>\n",
       "    .dataframe tbody tr th:only-of-type {\n",
       "        vertical-align: middle;\n",
       "    }\n",
       "\n",
       "    .dataframe tbody tr th {\n",
       "        vertical-align: top;\n",
       "    }\n",
       "\n",
       "    .dataframe thead th {\n",
       "        text-align: right;\n",
       "    }\n",
       "</style>\n",
       "<table border=\"1\" class=\"dataframe\">\n",
       "  <thead>\n",
       "    <tr style=\"text-align: right;\">\n",
       "      <th></th>\n",
       "      <th>Open</th>\n",
       "      <th>High</th>\n",
       "      <th>Low</th>\n",
       "      <th>Close</th>\n",
       "      <th>Volume</th>\n",
       "      <th>Dividends</th>\n",
       "      <th>Stock Splits</th>\n",
       "    </tr>\n",
       "    <tr>\n",
       "      <th>Date</th>\n",
       "      <th></th>\n",
       "      <th></th>\n",
       "      <th></th>\n",
       "      <th></th>\n",
       "      <th></th>\n",
       "      <th></th>\n",
       "      <th></th>\n",
       "    </tr>\n",
       "  </thead>\n",
       "  <tbody>\n",
       "    <tr>\n",
       "      <th>2021-01-05</th>\n",
       "      <td>217.26</td>\n",
       "      <td>218.52</td>\n",
       "      <td>215.70</td>\n",
       "      <td>217.90</td>\n",
       "      <td>23823000</td>\n",
       "      <td>0</td>\n",
       "      <td>0</td>\n",
       "    </tr>\n",
       "    <tr>\n",
       "      <th>2021-01-06</th>\n",
       "      <td>212.17</td>\n",
       "      <td>216.49</td>\n",
       "      <td>211.94</td>\n",
       "      <td>212.25</td>\n",
       "      <td>35930700</td>\n",
       "      <td>0</td>\n",
       "      <td>0</td>\n",
       "    </tr>\n",
       "    <tr>\n",
       "      <th>2021-01-07</th>\n",
       "      <td>214.04</td>\n",
       "      <td>219.34</td>\n",
       "      <td>213.71</td>\n",
       "      <td>218.29</td>\n",
       "      <td>27694500</td>\n",
       "      <td>0</td>\n",
       "      <td>0</td>\n",
       "    </tr>\n",
       "    <tr>\n",
       "      <th>2021-01-08</th>\n",
       "      <td>218.68</td>\n",
       "      <td>220.58</td>\n",
       "      <td>217.03</td>\n",
       "      <td>219.62</td>\n",
       "      <td>22956200</td>\n",
       "      <td>0</td>\n",
       "      <td>0</td>\n",
       "    </tr>\n",
       "    <tr>\n",
       "      <th>2021-01-11</th>\n",
       "      <td>218.47</td>\n",
       "      <td>218.91</td>\n",
       "      <td>216.73</td>\n",
       "      <td>217.49</td>\n",
       "      <td>23047000</td>\n",
       "      <td>0</td>\n",
       "      <td>0</td>\n",
       "    </tr>\n",
       "    <tr>\n",
       "      <th>2021-01-12</th>\n",
       "      <td>216.50</td>\n",
       "      <td>217.10</td>\n",
       "      <td>213.32</td>\n",
       "      <td>214.93</td>\n",
       "      <td>23249300</td>\n",
       "      <td>0</td>\n",
       "      <td>0</td>\n",
       "    </tr>\n",
       "    <tr>\n",
       "      <th>2021-01-13</th>\n",
       "      <td>214.02</td>\n",
       "      <td>216.76</td>\n",
       "      <td>213.93</td>\n",
       "      <td>216.34</td>\n",
       "      <td>20087100</td>\n",
       "      <td>0</td>\n",
       "      <td>0</td>\n",
       "    </tr>\n",
       "    <tr>\n",
       "      <th>2021-01-14</th>\n",
       "      <td>215.91</td>\n",
       "      <td>217.46</td>\n",
       "      <td>212.74</td>\n",
       "      <td>213.02</td>\n",
       "      <td>29480800</td>\n",
       "      <td>0</td>\n",
       "      <td>0</td>\n",
       "    </tr>\n",
       "    <tr>\n",
       "      <th>2021-01-15</th>\n",
       "      <td>213.52</td>\n",
       "      <td>214.51</td>\n",
       "      <td>212.03</td>\n",
       "      <td>212.65</td>\n",
       "      <td>31746500</td>\n",
       "      <td>0</td>\n",
       "      <td>0</td>\n",
       "    </tr>\n",
       "    <tr>\n",
       "      <th>2021-01-19</th>\n",
       "      <td>213.75</td>\n",
       "      <td>216.98</td>\n",
       "      <td>212.63</td>\n",
       "      <td>216.44</td>\n",
       "      <td>30480900</td>\n",
       "      <td>0</td>\n",
       "      <td>0</td>\n",
       "    </tr>\n",
       "    <tr>\n",
       "      <th>2021-01-20</th>\n",
       "      <td>217.70</td>\n",
       "      <td>225.79</td>\n",
       "      <td>217.29</td>\n",
       "      <td>224.34</td>\n",
       "      <td>37777300</td>\n",
       "      <td>0</td>\n",
       "      <td>0</td>\n",
       "    </tr>\n",
       "    <tr>\n",
       "      <th>2021-01-21</th>\n",
       "      <td>224.70</td>\n",
       "      <td>226.30</td>\n",
       "      <td>222.42</td>\n",
       "      <td>224.97</td>\n",
       "      <td>30749600</td>\n",
       "      <td>0</td>\n",
       "      <td>0</td>\n",
       "    </tr>\n",
       "    <tr>\n",
       "      <th>2021-01-22</th>\n",
       "      <td>227.08</td>\n",
       "      <td>230.07</td>\n",
       "      <td>225.80</td>\n",
       "      <td>225.95</td>\n",
       "      <td>30172700</td>\n",
       "      <td>0</td>\n",
       "      <td>0</td>\n",
       "    </tr>\n",
       "    <tr>\n",
       "      <th>2021-01-25</th>\n",
       "      <td>229.12</td>\n",
       "      <td>229.78</td>\n",
       "      <td>224.22</td>\n",
       "      <td>229.53</td>\n",
       "      <td>33152100</td>\n",
       "      <td>0</td>\n",
       "      <td>0</td>\n",
       "    </tr>\n",
       "    <tr>\n",
       "      <th>2021-01-26</th>\n",
       "      <td>231.86</td>\n",
       "      <td>234.18</td>\n",
       "      <td>230.08</td>\n",
       "      <td>232.33</td>\n",
       "      <td>49169600</td>\n",
       "      <td>0</td>\n",
       "      <td>0</td>\n",
       "    </tr>\n",
       "    <tr>\n",
       "      <th>2021-01-27</th>\n",
       "      <td>238.00</td>\n",
       "      <td>240.44</td>\n",
       "      <td>230.14</td>\n",
       "      <td>232.90</td>\n",
       "      <td>69870600</td>\n",
       "      <td>0</td>\n",
       "      <td>0</td>\n",
       "    </tr>\n",
       "    <tr>\n",
       "      <th>2021-01-28</th>\n",
       "      <td>235.61</td>\n",
       "      <td>242.64</td>\n",
       "      <td>235.09</td>\n",
       "      <td>238.93</td>\n",
       "      <td>49111200</td>\n",
       "      <td>0</td>\n",
       "      <td>0</td>\n",
       "    </tr>\n",
       "    <tr>\n",
       "      <th>2021-01-29</th>\n",
       "      <td>235.99</td>\n",
       "      <td>238.02</td>\n",
       "      <td>231.35</td>\n",
       "      <td>231.96</td>\n",
       "      <td>42468900</td>\n",
       "      <td>0</td>\n",
       "      <td>0</td>\n",
       "    </tr>\n",
       "    <tr>\n",
       "      <th>2021-02-01</th>\n",
       "      <td>235.06</td>\n",
       "      <td>242.50</td>\n",
       "      <td>232.43</td>\n",
       "      <td>239.65</td>\n",
       "      <td>33314200</td>\n",
       "      <td>0</td>\n",
       "      <td>0</td>\n",
       "    </tr>\n",
       "    <tr>\n",
       "      <th>2021-02-02</th>\n",
       "      <td>241.30</td>\n",
       "      <td>242.31</td>\n",
       "      <td>238.69</td>\n",
       "      <td>239.51</td>\n",
       "      <td>25916300</td>\n",
       "      <td>0</td>\n",
       "      <td>0</td>\n",
       "    </tr>\n",
       "    <tr>\n",
       "      <th>2021-02-03</th>\n",
       "      <td>239.57</td>\n",
       "      <td>245.09</td>\n",
       "      <td>239.26</td>\n",
       "      <td>243.00</td>\n",
       "      <td>27158100</td>\n",
       "      <td>0</td>\n",
       "      <td>0</td>\n",
       "    </tr>\n",
       "    <tr>\n",
       "      <th>2021-02-04</th>\n",
       "      <td>242.66</td>\n",
       "      <td>243.24</td>\n",
       "      <td>240.37</td>\n",
       "      <td>242.01</td>\n",
       "      <td>25296100</td>\n",
       "      <td>0</td>\n",
       "      <td>0</td>\n",
       "    </tr>\n",
       "    <tr>\n",
       "      <th>2021-02-05</th>\n",
       "      <td>242.23</td>\n",
       "      <td>243.28</td>\n",
       "      <td>240.42</td>\n",
       "      <td>242.20</td>\n",
       "      <td>18043900</td>\n",
       "      <td>0</td>\n",
       "      <td>0</td>\n",
       "    </tr>\n",
       "    <tr>\n",
       "      <th>2021-02-08</th>\n",
       "      <td>243.15</td>\n",
       "      <td>243.68</td>\n",
       "      <td>240.81</td>\n",
       "      <td>242.47</td>\n",
       "      <td>22211900</td>\n",
       "      <td>0</td>\n",
       "      <td>0</td>\n",
       "    </tr>\n",
       "    <tr>\n",
       "      <th>2021-02-09</th>\n",
       "      <td>241.87</td>\n",
       "      <td>244.76</td>\n",
       "      <td>241.38</td>\n",
       "      <td>243.77</td>\n",
       "      <td>23565000</td>\n",
       "      <td>0</td>\n",
       "      <td>0</td>\n",
       "    </tr>\n",
       "    <tr>\n",
       "      <th>2021-02-10</th>\n",
       "      <td>245.00</td>\n",
       "      <td>245.92</td>\n",
       "      <td>240.89</td>\n",
       "      <td>242.82</td>\n",
       "      <td>22186700</td>\n",
       "      <td>0</td>\n",
       "      <td>0</td>\n",
       "    </tr>\n",
       "    <tr>\n",
       "      <th>2021-02-11</th>\n",
       "      <td>244.78</td>\n",
       "      <td>245.15</td>\n",
       "      <td>242.15</td>\n",
       "      <td>244.49</td>\n",
       "      <td>15742200</td>\n",
       "      <td>0</td>\n",
       "      <td>0</td>\n",
       "    </tr>\n",
       "    <tr>\n",
       "      <th>2021-02-12</th>\n",
       "      <td>243.93</td>\n",
       "      <td>245.30</td>\n",
       "      <td>242.73</td>\n",
       "      <td>244.99</td>\n",
       "      <td>16552000</td>\n",
       "      <td>0</td>\n",
       "      <td>0</td>\n",
       "    </tr>\n",
       "    <tr>\n",
       "      <th>2021-02-16</th>\n",
       "      <td>245.03</td>\n",
       "      <td>246.13</td>\n",
       "      <td>242.92</td>\n",
       "      <td>243.70</td>\n",
       "      <td>26708200</td>\n",
       "      <td>0</td>\n",
       "      <td>0</td>\n",
       "    </tr>\n",
       "    <tr>\n",
       "      <th>2021-02-17</th>\n",
       "      <td>241.32</td>\n",
       "      <td>244.25</td>\n",
       "      <td>240.94</td>\n",
       "      <td>244.22</td>\n",
       "      <td>17304610</td>\n",
       "      <td>0</td>\n",
       "      <td>0</td>\n",
       "    </tr>\n",
       "  </tbody>\n",
       "</table>\n",
       "</div>"
      ],
      "text/plain": [
       "              Open    High     Low   Close    Volume  Dividends  Stock Splits\n",
       "Date                                                                         \n",
       "2021-01-05  217.26  218.52  215.70  217.90  23823000          0             0\n",
       "2021-01-06  212.17  216.49  211.94  212.25  35930700          0             0\n",
       "2021-01-07  214.04  219.34  213.71  218.29  27694500          0             0\n",
       "2021-01-08  218.68  220.58  217.03  219.62  22956200          0             0\n",
       "2021-01-11  218.47  218.91  216.73  217.49  23047000          0             0\n",
       "2021-01-12  216.50  217.10  213.32  214.93  23249300          0             0\n",
       "2021-01-13  214.02  216.76  213.93  216.34  20087100          0             0\n",
       "2021-01-14  215.91  217.46  212.74  213.02  29480800          0             0\n",
       "2021-01-15  213.52  214.51  212.03  212.65  31746500          0             0\n",
       "2021-01-19  213.75  216.98  212.63  216.44  30480900          0             0\n",
       "2021-01-20  217.70  225.79  217.29  224.34  37777300          0             0\n",
       "2021-01-21  224.70  226.30  222.42  224.97  30749600          0             0\n",
       "2021-01-22  227.08  230.07  225.80  225.95  30172700          0             0\n",
       "2021-01-25  229.12  229.78  224.22  229.53  33152100          0             0\n",
       "2021-01-26  231.86  234.18  230.08  232.33  49169600          0             0\n",
       "2021-01-27  238.00  240.44  230.14  232.90  69870600          0             0\n",
       "2021-01-28  235.61  242.64  235.09  238.93  49111200          0             0\n",
       "2021-01-29  235.99  238.02  231.35  231.96  42468900          0             0\n",
       "2021-02-01  235.06  242.50  232.43  239.65  33314200          0             0\n",
       "2021-02-02  241.30  242.31  238.69  239.51  25916300          0             0\n",
       "2021-02-03  239.57  245.09  239.26  243.00  27158100          0             0\n",
       "2021-02-04  242.66  243.24  240.37  242.01  25296100          0             0\n",
       "2021-02-05  242.23  243.28  240.42  242.20  18043900          0             0\n",
       "2021-02-08  243.15  243.68  240.81  242.47  22211900          0             0\n",
       "2021-02-09  241.87  244.76  241.38  243.77  23565000          0             0\n",
       "2021-02-10  245.00  245.92  240.89  242.82  22186700          0             0\n",
       "2021-02-11  244.78  245.15  242.15  244.49  15742200          0             0\n",
       "2021-02-12  243.93  245.30  242.73  244.99  16552000          0             0\n",
       "2021-02-16  245.03  246.13  242.92  243.70  26708200          0             0\n",
       "2021-02-17  241.32  244.25  240.94  244.22  17304610          0             0"
      ]
     },
     "execution_count": 107,
     "metadata": {},
     "output_type": "execute_result"
    }
   ],
   "source": [
    "# test data\n",
    "msft = yf.Ticker(\"MSFT\")\n",
    "hist = msft.history(period=\"30d\")\n",
    "hist"
   ]
  },
  {
   "cell_type": "code",
   "execution_count": 108,
   "metadata": {},
   "outputs": [],
   "source": [
    "lookback = 20\n",
    "ceiling, floor = 30, 10\n",
    "atr = TA.ATR(hist)"
   ]
  },
  {
   "cell_type": "code",
   "execution_count": 109,
   "metadata": {},
   "outputs": [
    {
     "data": {
      "text/plain": [
       "(4.743571428571433, 5.242857142857147)"
      ]
     },
     "execution_count": 109,
     "metadata": {},
     "output_type": "execute_result"
    }
   ],
   "source": [
    "today_atr, yesterday_atr = atr[-1], atr[-2]\n",
    "today_atr, yesterday_atr"
   ]
  },
  {
   "cell_type": "code",
   "execution_count": 110,
   "metadata": {},
   "outputs": [
    {
     "data": {
      "text/plain": [
       "-0.09523160762942777"
      ]
     },
     "execution_count": 110,
     "metadata": {},
     "output_type": "execute_result"
    }
   ],
   "source": [
    "delta_vol = (today_atr - yesterday_atr) / yesterday_atr\n",
    "delta_vol"
   ]
  },
  {
   "cell_type": "code",
   "execution_count": 111,
   "metadata": {},
   "outputs": [
    {
     "data": {
      "text/plain": [
       "18"
      ]
     },
     "execution_count": 111,
     "metadata": {},
     "output_type": "execute_result"
    }
   ],
   "source": [
    "lookback = round(lookback * (1 + delta_vol))\n",
    "lookback"
   ]
  },
  {
   "cell_type": "markdown",
   "metadata": {},
   "source": [
    "## Define Breakouts\n",
    "\n",
    "A breakout is defined as a closing price higher than the max price within the breakout window."
   ]
  },
  {
   "cell_type": "code",
   "execution_count": 372,
   "metadata": {},
   "outputs": [
    {
     "data": {
      "text/plain": [
       "Date\n",
       "2021-01-19    216.98\n",
       "2021-01-20    225.79\n",
       "2021-01-21    226.30\n",
       "2021-01-22    230.07\n",
       "2021-01-25    229.78\n",
       "2021-01-26    234.18\n",
       "2021-01-27    240.44\n",
       "2021-01-28    242.64\n",
       "2021-01-29    238.02\n",
       "2021-02-01    242.50\n",
       "2021-02-02    242.31\n",
       "2021-02-03    245.09\n",
       "2021-02-04    243.24\n",
       "2021-02-05    243.28\n",
       "2021-02-08    243.68\n",
       "2021-02-09    244.76\n",
       "2021-02-10    245.92\n",
       "2021-02-11    245.15\n",
       "2021-02-12    245.30\n",
       "2021-02-16    246.13\n",
       "Name: High, dtype: float64"
      ]
     },
     "execution_count": 372,
     "metadata": {},
     "output_type": "execute_result"
    }
   ],
   "source": [
    "window = hist[-lookback:][\"High\"]\n",
    "window"
   ]
  },
  {
   "cell_type": "code",
   "execution_count": 116,
   "metadata": {},
   "outputs": [
    {
     "data": {
      "text/plain": [
       "(243.7, 245.92)"
      ]
     },
     "execution_count": 116,
     "metadata": {},
     "output_type": "execute_result"
    }
   ],
   "source": [
    "hist[\"Close\"][-1], max(window[:-1])"
   ]
  },
  {
   "cell_type": "markdown",
   "metadata": {},
   "source": [
    "Here, no breakout is detected."
   ]
  },
  {
   "cell_type": "markdown",
   "metadata": {},
   "source": [
    "## Defining our trailing stop-loss\n",
    "We start with a stop-loss in mind. Let's put that at 2%. If the market continues to rise above our breakout point after we open the position, our stop-loss order should be higher too. We can define a trailing stop-loss, say 5%. If this is more than the original stop-loss, we update accordingly."
   ]
  },
  {
   "cell_type": "code",
   "execution_count": 120,
   "metadata": {},
   "outputs": [
    {
     "data": {
      "text/plain": [
       "209.0"
      ]
     },
     "execution_count": 120,
     "metadata": {},
     "output_type": "execute_result"
    }
   ],
   "source": [
    "initial_stop, trail_stop = 0.98, 0.95\n",
    "breakout_lvl, new_close =  200, 220 # example\n",
    "stop_loss = breakout_lvl * initial_stop\n",
    "\n",
    "if (new_close > breakout_lvl) and (new_close * trail_stop > initial_stop * breakout_lvl):\n",
    "    stop_loss = new_close * trail_stop\n",
    "    \n",
    "stop_loss"
   ]
  },
  {
   "cell_type": "markdown",
   "metadata": {},
   "source": [
    "## Testing\n",
    "Let's create a sample price generator for testing. It generates Monte-Carlo paths using the Heston option-pricing model. A second function can apply the generator to create price histories in ohlc format."
   ]
  },
  {
   "cell_type": "code",
   "execution_count": 77,
   "metadata": {},
   "outputs": [],
   "source": [
    "import numpy as np\n",
    "\n",
    "def stock_simulator(opening_price, ticks):\n",
    "    \n",
    "    N = ticks\n",
    "    V_t = np.random.uniform(0.3) # initial variance\n",
    "    S_t = opening_price\n",
    "    kappa = 2 # mean reversion speed\n",
    "    theta = np.random.uniform(0.3) # long run variance\n",
    "    epsilon = np.random.uniform(0.2) # volatility of volatility\n",
    "    rho = 0 # correlation\n",
    "    prices = []\n",
    "    \n",
    "    for i in range(1, N):\n",
    "        Z_s = np.random.normal()\n",
    "        Z_v = rho * Z_s + np.sqrt(1 - rho**2) * np.random.normal()\n",
    "        \n",
    "        # Euler integration\n",
    "        V_t = np.maximum(V_t, 0)\n",
    "        S_t = S_t * np.exp( np.sqrt(V_t / N) * Z_s - V_t / 2 / N)                     #  Price process\n",
    "        V_t = V_t + kappa * (theta - V_t) / N + epsilon * np.sqrt(V_t / N) * Z_v      # Volatility process\n",
    "        \n",
    "        prices.append(S_t)\n",
    "    return prices"
   ]
  },
  {
   "cell_type": "code",
   "execution_count": 79,
   "metadata": {},
   "outputs": [
    {
     "data": {
      "text/plain": [
       "<matplotlib.axes._subplots.AxesSubplot at 0x7f8a04261790>"
      ]
     },
     "execution_count": 79,
     "metadata": {},
     "output_type": "execute_result"
    },
    {
     "data": {
      "image/png": "[encoded data removed]",
      "text/plain": [
       "<Figure size 432x288 with 1 Axes>"
      ]
     },
     "metadata": {
      "needs_background": "light"
     },
     "output_type": "display_data"
    }
   ],
   "source": [
    "import pandas as pd\n",
    "pd.Series(stock_simulator(100, 78*7)).plot()"
   ]
  },
  {
   "cell_type": "code",
   "execution_count": 80,
   "metadata": {},
   "outputs": [],
   "source": [
    "def sample_history(opening_price, days):\n",
    "    opening = opening_price\n",
    "    ohlc = []\n",
    "    history = stock_simulator(opening_price, 78 * days)\n",
    "    for i in range(1, days):\n",
    "        day = history[(i-1) * 78 : i * 78]\n",
    "        ohlc.append([day[0], max(day), min(day), day[-1]])       \n",
    "    return pd.DataFrame(data=ohlc, columns=[\"Open\", \"High\", \"Low\", \"Close\"])"
   ]
  },
  {
   "cell_type": "code",
   "execution_count": 81,
   "metadata": {},
   "outputs": [
    {
     "data": {
      "text/html": [
       "<div>\n",
       "<style scoped>\n",
       "    .dataframe tbody tr th:only-of-type {\n",
       "        vertical-align: middle;\n",
       "    }\n",
       "\n",
       "    .dataframe tbody tr th {\n",
       "        vertical-align: top;\n",
       "    }\n",
       "\n",
       "    .dataframe thead th {\n",
       "        text-align: right;\n",
       "    }\n",
       "</style>\n",
       "<table border=\"1\" class=\"dataframe\">\n",
       "  <thead>\n",
       "    <tr style=\"text-align: right;\">\n",
       "      <th></th>\n",
       "      <th>Open</th>\n",
       "      <th>High</th>\n",
       "      <th>Low</th>\n",
       "      <th>Close</th>\n",
       "    </tr>\n",
       "  </thead>\n",
       "  <tbody>\n",
       "    <tr>\n",
       "      <th>0</th>\n",
       "      <td>98.354529</td>\n",
       "      <td>100.229618</td>\n",
       "      <td>83.002270</td>\n",
       "      <td>89.148932</td>\n",
       "    </tr>\n",
       "    <tr>\n",
       "      <th>1</th>\n",
       "      <td>89.169639</td>\n",
       "      <td>95.727834</td>\n",
       "      <td>84.097605</td>\n",
       "      <td>94.175765</td>\n",
       "    </tr>\n",
       "    <tr>\n",
       "      <th>2</th>\n",
       "      <td>94.661986</td>\n",
       "      <td>96.627227</td>\n",
       "      <td>81.132524</td>\n",
       "      <td>86.480284</td>\n",
       "    </tr>\n",
       "    <tr>\n",
       "      <th>3</th>\n",
       "      <td>87.532763</td>\n",
       "      <td>94.817852</td>\n",
       "      <td>80.780219</td>\n",
       "      <td>82.491576</td>\n",
       "    </tr>\n",
       "    <tr>\n",
       "      <th>4</th>\n",
       "      <td>81.831268</td>\n",
       "      <td>82.516225</td>\n",
       "      <td>50.530530</td>\n",
       "      <td>52.700522</td>\n",
       "    </tr>\n",
       "    <tr>\n",
       "      <th>5</th>\n",
       "      <td>54.149864</td>\n",
       "      <td>54.149864</td>\n",
       "      <td>41.090655</td>\n",
       "      <td>41.544385</td>\n",
       "    </tr>\n",
       "    <tr>\n",
       "      <th>6</th>\n",
       "      <td>40.994261</td>\n",
       "      <td>42.046130</td>\n",
       "      <td>35.673164</td>\n",
       "      <td>38.530595</td>\n",
       "    </tr>\n",
       "    <tr>\n",
       "      <th>7</th>\n",
       "      <td>38.172360</td>\n",
       "      <td>46.955438</td>\n",
       "      <td>36.445542</td>\n",
       "      <td>40.191697</td>\n",
       "    </tr>\n",
       "    <tr>\n",
       "      <th>8</th>\n",
       "      <td>40.059245</td>\n",
       "      <td>45.918750</td>\n",
       "      <td>37.959189</td>\n",
       "      <td>44.515821</td>\n",
       "    </tr>\n",
       "    <tr>\n",
       "      <th>9</th>\n",
       "      <td>45.118018</td>\n",
       "      <td>47.473586</td>\n",
       "      <td>37.242108</td>\n",
       "      <td>37.479825</td>\n",
       "    </tr>\n",
       "    <tr>\n",
       "      <th>10</th>\n",
       "      <td>37.495484</td>\n",
       "      <td>42.958822</td>\n",
       "      <td>35.295046</td>\n",
       "      <td>41.546682</td>\n",
       "    </tr>\n",
       "    <tr>\n",
       "      <th>11</th>\n",
       "      <td>40.672967</td>\n",
       "      <td>45.052415</td>\n",
       "      <td>37.737629</td>\n",
       "      <td>40.334774</td>\n",
       "    </tr>\n",
       "    <tr>\n",
       "      <th>12</th>\n",
       "      <td>41.125104</td>\n",
       "      <td>42.563855</td>\n",
       "      <td>35.561647</td>\n",
       "      <td>35.561647</td>\n",
       "    </tr>\n",
       "    <tr>\n",
       "      <th>13</th>\n",
       "      <td>35.274239</td>\n",
       "      <td>36.566998</td>\n",
       "      <td>33.401398</td>\n",
       "      <td>35.668213</td>\n",
       "    </tr>\n",
       "    <tr>\n",
       "      <th>14</th>\n",
       "      <td>36.881332</td>\n",
       "      <td>38.726617</td>\n",
       "      <td>29.651572</td>\n",
       "      <td>32.955006</td>\n",
       "    </tr>\n",
       "    <tr>\n",
       "      <th>15</th>\n",
       "      <td>33.315116</td>\n",
       "      <td>37.707402</td>\n",
       "      <td>32.248192</td>\n",
       "      <td>36.880533</td>\n",
       "    </tr>\n",
       "    <tr>\n",
       "      <th>16</th>\n",
       "      <td>36.821817</td>\n",
       "      <td>37.972339</td>\n",
       "      <td>32.925647</td>\n",
       "      <td>36.262243</td>\n",
       "    </tr>\n",
       "    <tr>\n",
       "      <th>17</th>\n",
       "      <td>35.055061</td>\n",
       "      <td>35.963026</td>\n",
       "      <td>31.121799</td>\n",
       "      <td>33.779832</td>\n",
       "    </tr>\n",
       "    <tr>\n",
       "      <th>18</th>\n",
       "      <td>33.641541</td>\n",
       "      <td>37.180911</td>\n",
       "      <td>29.964958</td>\n",
       "      <td>30.181440</td>\n",
       "    </tr>\n",
       "    <tr>\n",
       "      <th>19</th>\n",
       "      <td>29.621622</td>\n",
       "      <td>29.888816</td>\n",
       "      <td>26.402104</td>\n",
       "      <td>29.448088</td>\n",
       "    </tr>\n",
       "    <tr>\n",
       "      <th>20</th>\n",
       "      <td>28.918141</td>\n",
       "      <td>28.918141</td>\n",
       "      <td>25.166092</td>\n",
       "      <td>26.630884</td>\n",
       "    </tr>\n",
       "    <tr>\n",
       "      <th>21</th>\n",
       "      <td>26.850332</td>\n",
       "      <td>31.142422</td>\n",
       "      <td>25.306966</td>\n",
       "      <td>28.183093</td>\n",
       "    </tr>\n",
       "    <tr>\n",
       "      <th>22</th>\n",
       "      <td>27.927627</td>\n",
       "      <td>31.552249</td>\n",
       "      <td>26.710329</td>\n",
       "      <td>30.935830</td>\n",
       "    </tr>\n",
       "    <tr>\n",
       "      <th>23</th>\n",
       "      <td>31.642293</td>\n",
       "      <td>35.990165</td>\n",
       "      <td>30.187310</td>\n",
       "      <td>34.988181</td>\n",
       "    </tr>\n",
       "    <tr>\n",
       "      <th>24</th>\n",
       "      <td>34.816410</td>\n",
       "      <td>36.719778</td>\n",
       "      <td>33.975832</td>\n",
       "      <td>36.673538</td>\n",
       "    </tr>\n",
       "    <tr>\n",
       "      <th>25</th>\n",
       "      <td>36.715367</td>\n",
       "      <td>36.715367</td>\n",
       "      <td>33.200888</td>\n",
       "      <td>34.323370</td>\n",
       "    </tr>\n",
       "    <tr>\n",
       "      <th>26</th>\n",
       "      <td>33.809366</td>\n",
       "      <td>38.296460</td>\n",
       "      <td>31.120409</td>\n",
       "      <td>36.886254</td>\n",
       "    </tr>\n",
       "    <tr>\n",
       "      <th>27</th>\n",
       "      <td>36.648921</td>\n",
       "      <td>37.206668</td>\n",
       "      <td>31.338833</td>\n",
       "      <td>31.507123</td>\n",
       "    </tr>\n",
       "    <tr>\n",
       "      <th>28</th>\n",
       "      <td>31.016033</td>\n",
       "      <td>36.902064</td>\n",
       "      <td>30.758164</td>\n",
       "      <td>30.758164</td>\n",
       "    </tr>\n",
       "  </tbody>\n",
       "</table>\n",
       "</div>"
      ],
      "text/plain": [
       "         Open        High        Low      Close\n",
       "0   98.354529  100.229618  83.002270  89.148932\n",
       "1   89.169639   95.727834  84.097605  94.175765\n",
       "2   94.661986   96.627227  81.132524  86.480284\n",
       "3   87.532763   94.817852  80.780219  82.491576\n",
       "4   81.831268   82.516225  50.530530  52.700522\n",
       "5   54.149864   54.149864  41.090655  41.544385\n",
       "6   40.994261   42.046130  35.673164  38.530595\n",
       "7   38.172360   46.955438  36.445542  40.191697\n",
       "8   40.059245   45.918750  37.959189  44.515821\n",
       "9   45.118018   47.473586  37.242108  37.479825\n",
       "10  37.495484   42.958822  35.295046  41.546682\n",
       "11  40.672967   45.052415  37.737629  40.334774\n",
       "12  41.125104   42.563855  35.561647  35.561647\n",
       "13  35.274239   36.566998  33.401398  35.668213\n",
       "14  36.881332   38.726617  29.651572  32.955006\n",
       "15  33.315116   37.707402  32.248192  36.880533\n",
       "16  36.821817   37.972339  32.925647  36.262243\n",
       "17  35.055061   35.963026  31.121799  33.779832\n",
       "18  33.641541   37.180911  29.964958  30.181440\n",
       "19  29.621622   29.888816  26.402104  29.448088\n",
       "20  28.918141   28.918141  25.166092  26.630884\n",
       "21  26.850332   31.142422  25.306966  28.183093\n",
       "22  27.927627   31.552249  26.710329  30.935830\n",
       "23  31.642293   35.990165  30.187310  34.988181\n",
       "24  34.816410   36.719778  33.975832  36.673538\n",
       "25  36.715367   36.715367  33.200888  34.323370\n",
       "26  33.809366   38.296460  31.120409  36.886254\n",
       "27  36.648921   37.206668  31.338833  31.507123\n",
       "28  31.016033   36.902064  30.758164  30.758164"
      ]
     },
     "execution_count": 81,
     "metadata": {},
     "output_type": "execute_result"
    }
   ],
   "source": [
    "sample_history(100, 30)"
   ]
  },
  {
   "cell_type": "code",
   "execution_count": 82,
   "metadata": {},
   "outputs": [
    {
     "data": {
      "text/plain": [
       "<matplotlib.axes._subplots.AxesSubplot at 0x7f8a0437c550>"
      ]
     },
     "execution_count": 82,
     "metadata": {},
     "output_type": "execute_result"
    },
    {
     "data": {
      "image/png": "[encoded data removed]",
      "text/plain": [
       "<Figure size 432x288 with 1 Axes>"
      ]
     },
     "metadata": {
      "needs_background": "light"
     },
     "output_type": "display_data"
    }
   ],
   "source": [
    "hist = sample_history(100, 253)\n",
    "atr = TA.ATR(hist)\n",
    "atr.plot()"
   ]
  },
  {
   "cell_type": "markdown",
   "metadata": {},
   "source": [
    "## Testing the Breakout Algorithm"
   ]
  },
  {
   "cell_type": "code",
   "execution_count": 83,
   "metadata": {},
   "outputs": [
    {
     "data": {
      "text/plain": [
       "<matplotlib.axes._subplots.AxesSubplot at 0x7f8a0448d5e0>"
      ]
     },
     "execution_count": 83,
     "metadata": {},
     "output_type": "execute_result"
    },
    {
     "data": {
      "image/png": "[encoded data removed]",
      "text/plain": [
       "<Figure size 432x288 with 1 Axes>"
      ]
     },
     "metadata": {
      "needs_background": "light"
     },
     "output_type": "display_data"
    }
   ],
   "source": [
    "# We generate a month's worth of test data.\n",
    "\n",
    "test_data = stock_simulator(100, 78*30)\n",
    "pd.Series(test_data).plot()"
   ]
  },
  {
   "cell_type": "code",
   "execution_count": 105,
   "metadata": {},
   "outputs": [
    {
     "name": "stdout",
     "output_type": "stream",
     "text": [
      "0.569192023667152 -0.8581303235645173 23.601688283505222\n"
     ]
    }
   ],
   "source": [
    "\n",
    "# convert to ohlc -- but use 20-tick periods!\n",
    "# repeat 1000 times, record profits\n",
    "# month + 10 days of data\n",
    "profits = []\n",
    "stop_loss = 0.98\n",
    "trail_loss = 0.8\n",
    "for monte in range(1000):\n",
    "    test_data = stock_simulator(10, 78*40)\n",
    "    ohlc = []\n",
    "    for i in range(1, 157):\n",
    "        day = test_data[(i-1) * 20 : i * 20]\n",
    "        ohlc.append([day[0], max(day), min(day), day[-1]])\n",
    "    hist = pd.DataFrame(data=ohlc, columns=[\"Open\", \"High\", \"Low\", \"Close\"])\n",
    "    atr = TA.ATR(hist)\n",
    "    macd = TA.MACD(hist)\n",
    "\n",
    "    # identify breakouts, macd buy/sell signals starting after day 10\n",
    "    lookback = 15\n",
    "    ceiling, floor = 25, 5\n",
    "    buy, sell = [], []\n",
    "    bought = False\n",
    "\n",
    "    for i in range(39, 156):\n",
    "        if ((bought == False) and \n",
    "            (((hist[\"Close\"][i]) > (max(hist[\"High\"][i-lookback:i]))) and (macd['MACD'][i] > macd['SIGNAL'][i]))):\n",
    "            buy.append(test_data[i*20])\n",
    "            bought = True\n",
    "            stop_price = test_data[i*20]\n",
    "        elif bought: # check stop loss\n",
    "            for ticks in test_data[(i-1)*20:i*20]:\n",
    "                if ticks <= stop_price:\n",
    "                    sell.append(stop_price)\n",
    "                    bought = False\n",
    "                    break\n",
    "        if (len(buy)>0 and bought and hist[\"Close\"][i]) > (max(hist[\"High\"][i-lookback:i])): # trailing stop-loss\n",
    "            if (test_data[i*20] > buy[-1]) and (test_data[i*20] * trail_loss > stop_price):\n",
    "                stop_price = test_data[i*20] * trail_loss\n",
    "            \n",
    "        if bought and (macd['MACD'][i] < macd['SIGNAL'][i]): # sell signal\n",
    "            sell.append(test_data[i*20])\n",
    "            bought = False\n",
    "            \n",
    "        # adjust lookback window\n",
    "        lookback = round(lookback * (1 + (atr[i]-atr[i-1])/atr[i-1]))\n",
    "        if lookback > ceiling:\n",
    "            lookback = ceiling\n",
    "        elif lookback < floor:\n",
    "            lookback = floor\n",
    "    \n",
    "    if len(sell) < len(buy): # sells at the end if position still open\n",
    "        sell.append(test_data[-1])\n",
    "        \n",
    "    capital = 25000\n",
    "    for i in range(len(buy)):\n",
    "        stock = capital/buy[i]\n",
    "        capital = stock * sell[i]\n",
    "        \n",
    "    \n",
    "    profits.append(capital - 25000)\n",
    "    \n",
    "print(np.average(profits)/250, np.min(profits)/250, np.max(profits)/250)"
   ]
  },
  {
   "cell_type": "code",
   "execution_count": 38,
   "metadata": {},
   "outputs": [],
   "source": [
    "# identify breakouts, macd buy/sell signals starting after day 10\n",
    "from finta import TA\n",
    "lookback = 15\n",
    "ceiling, floor = 25, 5\n",
    "buy, sell = [], []\n",
    "bought = False\n",
    "\n",
    "for i in range(39, 117):\n",
    "    if ((bought == False) and \n",
    "        (((hist[\"Close\"][i]) > (max(hist[\"High\"][i-lookback:i]))) or (macd['MACD'][i] > macd['SIGNAL'][i]))):\n",
    "        buy.append(i*20)\n",
    "        bought = True\n",
    "    elif (bought == True) and (macd['MACD'][i] < macd['SIGNAL'][i]):\n",
    "        sell.append(i*20)\n",
    "        bought = False\n",
    "    # adjust lookback\n",
    "    lookback = round(lookback * (1 + (atr[i]-atr[i-1])/atr[i-1]))\n",
    "    if lookback > ceiling:\n",
    "        lookback = ceiling\n",
    "    elif lookback < floor:\n",
    "        lookback = floor"
   ]
  },
  {
   "cell_type": "code",
   "execution_count": 696,
   "metadata": {},
   "outputs": [
    {
     "data": {
      "text/plain": [
       "([1120, 1460, 2000, 2580, 3020], [1300, 1760, 2460, 2600, 3118])"
      ]
     },
     "execution_count": 696,
     "metadata": {},
     "output_type": "execute_result"
    }
   ],
   "source": [
    "buy, sell"
   ]
  },
  {
   "cell_type": "code",
   "execution_count": 697,
   "metadata": {},
   "outputs": [
    {
     "data": {
      "text/plain": [
       "<matplotlib.axes._subplots.AxesSubplot at 0x7fcd8005aa00>"
      ]
     },
     "execution_count": 697,
     "metadata": {},
     "output_type": "execute_result"
    },
    {
     "data": {
      "image/png": "[encoded data removed]",
      "text/plain": [
       "<Figure size 432x288 with 1 Axes>"
      ]
     },
     "metadata": {
      "needs_background": "light"
     },
     "output_type": "display_data"
    }
   ],
   "source": [
    "pd.Series(test_data).plot()"
   ]
  },
  {
   "cell_type": "code",
   "execution_count": 698,
   "metadata": {},
   "outputs": [
    {
     "name": "stdout",
     "output_type": "stream",
     "text": [
      "3.1693890248600622 % return per cycle\n"
     ]
    }
   ],
   "source": [
    "capital = 25000\n",
    "for i in range(len(sell)):\n",
    "    stock = capital/test_data[buy[i]]\n",
    "    capital = stock * test_data[sell[i]]\n",
    "    \n",
    "print((capital - 25000)/25000*100/len(buy), \"% return per cycle\")"
   ]
  },
  {
   "cell_type": "code",
   "execution_count": 701,
   "metadata": {},
   "outputs": [
    {
     "data": {
      "text/plain": [
       "(144.65178097578774, -20.7719518465571)"
      ]
     },
     "execution_count": 701,
     "metadata": {},
     "output_type": "execute_result"
    }
   ],
   "source": [
    "np.max(profits)/250, np.min(profits)/250"
   ]
  },
  {
   "cell_type": "code",
   "execution_count": 89,
   "metadata": {},
   "outputs": [
    {
     "ename": "IndexError",
     "evalue": "list index out of range",
     "output_type": "error",
     "traceback": [
      "\u001b[0;31m---------------------------------------------------------------------------\u001b[0m",
      "\u001b[0;31mIndexError\u001b[0m                                Traceback (most recent call last)",
      "\u001b[0;32m<ipython-input-89-8aa0d9959d41>\u001b[0m in \u001b[0;36m<module>\u001b[0;34m\u001b[0m\n\u001b[0;32m----> 1\u001b[0;31m \u001b[0mbuy\u001b[0m\u001b[0;34m[\u001b[0m\u001b[0;34m-\u001b[0m\u001b[0;36m1\u001b[0m\u001b[0;34m]\u001b[0m\u001b[0;34m\u001b[0m\u001b[0;34m\u001b[0m\u001b[0m\n\u001b[0m",
      "\u001b[0;31mIndexError\u001b[0m: list index out of range"
     ]
    }
   ],
   "source": [
    "buy[-1]"
   ]
  },
  {
   "cell_type": "code",
   "execution_count": null,
   "metadata": {},
   "outputs": [],
   "source": []
  }
 ],
 "metadata": {
  "kernelspec": {
   "display_name": "Python 3",
   "language": "python",
   "name": "python3"
  },
  "language_info": {
   "codemirror_mode": {
    "name": "ipython",
    "version": 3
   },
   "file_extension": ".py",
   "mimetype": "text/x-python",
   "name": "python",
   "nbconvert_exporter": "python",
   "pygments_lexer": "ipython3",
   "version": "3.8.3"
  }
 },
 "nbformat": 4,
 "nbformat_minor": 4
}
